{
 "cells": [
  {
   "cell_type": "code",
   "execution_count": 1,
   "metadata": {},
   "outputs": [],
   "source": [
    "with open(\"3b.misc.mbox\") as f:\n",
    "    usenet_file = f.read()"
   ]
  },
  {
   "cell_type": "code",
   "execution_count": 18,
   "metadata": {},
   "outputs": [],
   "source": [
    "import re"
   ]
  },
  {
   "cell_type": "code",
   "execution_count": 19,
   "metadata": {},
   "outputs": [],
   "source": [
    "def get_messages(mbox):\n",
    "    messages_temp = re.findall('(^From\\s-?[0-9]+\\n.+?)(^From\\s-?[0-9]+\\n|\\Z)', mbox, flags = re.DOTALL | re.MULTILINE)\n",
    "    messages = [m[0] for m in messages_temp]\n",
    "    return messages"
   ]
  },
  {
   "cell_type": "code",
   "execution_count": 20,
   "metadata": {},
   "outputs": [],
   "source": [
    "messages = get_messages(usenet_file)"
   ]
  },
  {
   "cell_type": "code",
   "execution_count": 32,
   "metadata": {},
   "outputs": [],
   "source": [
    "message = [m[0] for m in re.findall('(^From 6381931551322850314\\n.+?)(^From\\s-?[0-9]+\\n|\\Z)', usenet_file, flags = re.DOTALL | re.MULTILINE)][0]"
   ]
  },
  {
   "cell_type": "code",
   "execution_count": 33,
   "metadata": {},
   "outputs": [],
   "source": [
    "import email"
   ]
  },
  {
   "cell_type": "code",
   "execution_count": 34,
   "metadata": {},
   "outputs": [
    {
     "name": "stdout",
     "output_type": "stream",
     "text": [
      "From 6381931551322850314\n",
      "X-Google-Language: ENGLISH,ASCII-7-bit\n",
      "X-Google-Thread: 11640a,3d7eeb3da24acf0b\n",
      "X-Google-Attributes: gid11640a,public\n",
      "X-Google-Thread: faa3c,4a76a5c1ae79a7e7\n",
      "X-Google-Attributes: gidfaa3c,public\n",
      "X-Google-Thread: 105a50,3d7eeb3da24acf0b\n",
      "X-Google-Attributes: gid105a50,public\n",
      "X-Google-ArrivalTime: 2003-11-28 14:10:24 PST\n",
      "Path: archiver1.google.com!news2.google.com!news.maxwell.syr.edu!elnk-pas-nf1!elnk-nf2-pas!newsfeed.earthlink.net!wn14feed!wn13feed!worldnet.att.net!204.127.198.203!attbi_feed3!attbi.com!attbi_s02.POSTED!not-for-mail\n",
      "From: nwina@mchsi.com (jeff smith)\n",
      "Newsgroups: 24hoursupport.helpdesk,3b.config,3b.misc\n",
      "Subject: \"newsgroups\"Christmas tips\n",
      "Message-ID: <5825744112803@netnews.mchsi.com>\n",
      "Lines: 36\n",
      "NNTP-Posting-Host: 12.215.61.15\n",
      "X-Complaints-To: abuse@mchsi.com\n",
      "X-Trace: attbi_s02 1070057423 12.215.61.15 (Fri, 28 Nov 2003 22:10:23 GMT)\n",
      "NNTP-Posting-Date: Fri, 28 Nov 2003 22:10:23 GMT\n",
      "Organization: MediaCom High Speed Internet\n",
      "Date: Fri, 28 Nov 2003 22:10:23 GMT\n",
      "Xref: archiver1.google.com 24hoursupport.helpdesk:30144\n",
      "\n",
      "ps. a word to the wise and a helpful tip!..the next time you visit your Doctor and he prescribes \"antibiotics\" ask him what he is also prescribing for you to take after the \"antibiotics\" you take kill the good bacteria in your stomach? If he doesn't suggest anything, you may want to get a second opinion! Doctors who practice alternative medicine will understand very well! \n",
      "\n",
      "ALSO: Are you aware that fibromyalgia may very well be cause by \"leaky gut syndrome\" and that leaky gut syndrome is caused by bad bacteria and yeast out of control in your intestines that (very well) caused by antibiotics, prescribed by your DOCTOR ,which one problem causes yet another. Talk to your Doctor about it and if he don't KNOW, get a second opinion, try a Doctor who also believes or practices Alternative Medicine! Here is a good web site to view \n",
      "\n",
      "www.mold-survivor.com/lea...ndrome.htm \n",
      "\n",
      "Have a nice holiday and best wishes to you and your health!\n",
      "\n",
      "please..lend this family a hand...pass the word\n",
      "\n",
      "\n",
      "\n",
      "-----------------------------------------------------------------------------\n",
      "--This Message Has Been Posted Using A Trial Version Of Message Poster 2003--\n",
      "-----------------------------------------------------------------------------\n",
      "Would you like to reach millions of customers for only the cost of bandwidth?\n",
      "You can post messages like this to thousands of newsgroups with a simple to\n",
      "use software application called Message Poster 2003.  For more details on\n",
      "this extremely affordable software, visit:\n",
      "http://www.exibitionsoftware.com\n",
      "\n",
      "\n",
      "begin 664 health.mg3\n",
      "M6U-%4E9%4DY!345=#0IN971N97=S+FUC:'-I+F-O;0T*6T=23U503$E35%T-\n",
      "M\"F%D<PT*6U-%3D1%4DY!345=#0IJ969F#0I;4T5.1$5214U!24Q=#0IN=VEN\n",
      "M84!M8VAS:2YC;VT-\"EM354)*14-470T*2&5A;'1H#0I;0D]$65T-\"D-O;&QO\n",
      "M:61A;\"!S:6QV97(@9V5N97)A=&]R<R -\"FAE;' @<V%V92!L:79E<R -\"F-A\n",
      "M;&P@9F]R(&1E=&%I;',@#0HR,3DM,S0U+3(U.30-\"EM%3D1\"3T1970T*6T%4\n",
      "M5$%#2$U%3E1370T*6T5.1$%45$%#2$U%3E1370T*6T%45$%#2$U%3E1-3T1%\n",
      "&70T*, T*\n",
      "'\n",
      "end\n",
      "\n",
      "\n",
      "\n",
      "\n",
      "\n",
      "\n",
      "\n"
     ]
    }
   ],
   "source": [
    "print(message)"
   ]
  },
  {
   "cell_type": "code",
   "execution_count": 42,
   "metadata": {},
   "outputs": [
    {
     "name": "stdout",
     "output_type": "stream",
     "text": [
      "From 6381931551322850314\n",
      "X-Google-Language: ENGLISH,ASCII-7-bit\n",
      "X-Google-Thread: 11640a,3d7eeb3da24acf0b\n",
      "X-Google-Attributes: gid11640a,public\n",
      "X-Google-Thread: faa3c,4a76a5c1ae79a7e7\n",
      "X-Google-Attributes: gidfaa3c,public\n",
      "X-Google-Thread: 105a50,3d7eeb3da24acf0b\n",
      "X-Google-Attributes: gid105a50,public\n",
      "X-Google-ArrivalTime: 2003-11-28 14:10:24 PST\n",
      "Path: archiver1.google.com!news2.google.com!news.maxwell.syr.edu!elnk-pas-nf1!elnk-nf2-pas!newsfeed.earthlink.net!wn14feed!wn13feed!worldnet.att.net!204.127.198.203!attbi_feed3!attbi.com!attbi_s02.POSTED!not-for-mail\n",
      "From: nwina@mchsi.com (jeff smith)\n",
      "Newsgroups: 24hoursupport.helpdesk,3b.config,3b.misc\n",
      "Subject: \"newsgroups\"Christmas tips\n",
      "Message-ID: <5825744112803@netnews.mchsi.com>\n",
      "Lines: 36\n",
      "NNTP-Posting-Host: 12.215.61.15\n",
      "X-Complaints-To: abuse@mchsi.com\n",
      "X-Trace: attbi_s02 1070057423 12.215.61.15 (Fri, 28 Nov 2003 22:10:23 GMT)\n",
      "NNTP-Posting-Date: Fri, 28 Nov 2003 22:10:23 GMT\n",
      "Organization: MediaCom High Speed Internet\n",
      "Date: Fri, 28 Nov 2003 22:10:23 GMT\n",
      "Xref: archiver1.google.com 24hoursupport.helpdesk:30144\n",
      "\n",
      "ps. a word to the wise and a helpful tip!..the next time you visit your Doctor and he prescribes \"antibiotics\" ask him what he is also prescribing for you to take after the \"antibiotics\" you take kill the good bacteria in your stomach? If he doesn't suggest anything, you may want to get a second opinion! Doctors who practice alternative medicine will understand very well! \n",
      "\n",
      "ALSO: Are you aware that fibromyalgia may very well be cause by \"leaky gut syndrome\" and that leaky gut syndrome is caused by bad bacteria and yeast out of control in your intestines that (very well) caused by antibiotics, prescribed by your DOCTOR ,which one problem causes yet another. Talk to your Doctor about it and if he don't KNOW, get a second opinion, try a Doctor who also believes or practices Alternative Medicine! Here is a good web site to view \n",
      "\n",
      "www.mold-survivor.com/lea...ndrome.htm \n",
      "\n",
      "Have a nice holiday and best wishes to you and your health!\n",
      "\n",
      "please..lend this family a hand...pass the word\n",
      "\n",
      "\n",
      "\n",
      "-----------------------------------------------------------------------------\n",
      "--This Message Has Been Posted Using A Trial Version Of Message Poster 2003--\n",
      "-----------------------------------------------------------------------------\n",
      "Would you like to reach millions of customers for only the cost of bandwidth?\n",
      "You can post messages like this to thousands of newsgroups with a simple to\n",
      "use software application called Message Poster 2003.  For more details on\n",
      "this extremely affordable software, visit:\n",
      "http://www.exibitionsoftware.com\n",
      "\n",
      "\n",
      "begin 664 health.mg3\n",
      "M6U-%4E9%4DY!345=#0IN971N97=S+FUC:'-I+F-O;0T*6T=23U503$E35%T-\n",
      "M\"F%D<PT*6U-%3D1%4DY!345=#0IJ969F#0I;4T5.1$5214U!24Q=#0IN=VEN\n",
      "M84!M8VAS:2YC;VT-\"EM354)*14-470T*2&5A;'1H#0I;0D]$65T-\"D-O;&QO\n",
      "M:61A;\"!S:6QV97(@9V5N97)A=&]R<R -\"FAE;' @<V%V92!L:79E<R -\"F-A\n",
      "M;&P@9F]R(&1E=&%I;',@#0HR,3DM,S0U+3(U.30-\"EM%3D1\"3T1970T*6T%4\n",
      "M5$%#2$U%3E1370T*6T5.1$%45$%#2$U%3E1370T*6T%45$%#2$U%3E1-3T1%\n",
      "&70T*, T*\n",
      "'\n",
      "end\n",
      "\n",
      "\n",
      "\n",
      "\n",
      "\n",
      "\n",
      "\n"
     ]
    }
   ],
   "source": [
    "print(re.sub(\"^Content-Transfer-Encoding.+?\", \"\", message, flags = re.DOTALL | re.MULTILINE))"
   ]
  },
  {
   "cell_type": "code",
   "execution_count": 37,
   "metadata": {},
   "outputs": [],
   "source": [
    "message_attachments = email_message.get_payload()"
   ]
  },
  {
   "cell_type": "code",
   "execution_count": 40,
   "metadata": {},
   "outputs": [
    {
     "ename": "AttributeError",
     "evalue": "'str' object has no attribute 'get_content_type'",
     "output_type": "error",
     "traceback": [
      "\u001b[0;31m---------------------------------------------------------------------------\u001b[0m",
      "\u001b[0;31mAttributeError\u001b[0m                            Traceback (most recent call last)",
      "\u001b[0;32m<ipython-input-40-5a22c48a8556>\u001b[0m in \u001b[0;36m<module>\u001b[0;34m\u001b[0m\n\u001b[0;32m----> 1\u001b[0;31m \u001b[0mprint\u001b[0m\u001b[0;34m(\u001b[0m\u001b[0mmessage_attachments\u001b[0m\u001b[0;34m.\u001b[0m\u001b[0mget_content_type\u001b[0m\u001b[0;34m(\u001b[0m\u001b[0;34m)\u001b[0m\u001b[0;34m)\u001b[0m\u001b[0;34m\u001b[0m\u001b[0;34m\u001b[0m\u001b[0m\n\u001b[0m",
      "\u001b[0;31mAttributeError\u001b[0m: 'str' object has no attribute 'get_content_type'"
     ]
    }
   ],
   "source": [
    "print(message_attachments.get_content_type())"
   ]
  },
  {
   "cell_type": "code",
   "execution_count": null,
   "metadata": {},
   "outputs": [],
   "source": []
  }
 ],
 "metadata": {
  "kernelspec": {
   "display_name": "Python 3",
   "language": "python",
   "name": "python3"
  },
  "language_info": {
   "codemirror_mode": {
    "name": "ipython",
    "version": 3
   },
   "file_extension": ".py",
   "mimetype": "text/x-python",
   "name": "python",
   "nbconvert_exporter": "python",
   "pygments_lexer": "ipython3",
   "version": "3.6.7"
  }
 },
 "nbformat": 4,
 "nbformat_minor": 2
}
