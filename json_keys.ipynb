{
 "cells": [
  {
   "cell_type": "code",
   "execution_count": 2,
   "metadata": {},
   "outputs": [],
   "source": [
    "import glob,json"
   ]
  },
  {
   "cell_type": "code",
   "execution_count": 20,
   "metadata": {},
   "outputs": [],
   "source": [
    "files = glob.glob(\"reddit_10-2007_03-2015/*\")"
   ]
  },
  {
   "cell_type": "code",
   "execution_count": 4,
   "metadata": {},
   "outputs": [],
   "source": [
    "filename=\"reddit_10-2007_03-2015/RC_2007-12\""
   ]
  },
  {
   "cell_type": "code",
   "execution_count": 5,
   "metadata": {},
   "outputs": [],
   "source": [
    "json_data=open(filename)"
   ]
  },
  {
   "cell_type": "code",
   "execution_count": 6,
   "metadata": {},
   "outputs": [],
   "source": [
    "json_list = []\n",
    "for line in open(filename, 'r'):\n",
    "    json_list.append(json.loads(line))"
   ]
  },
  {
   "cell_type": "code",
   "execution_count": 7,
   "metadata": {
    "scrolled": true
   },
   "outputs": [
    {
     "data": {
      "text/plain": [
       "dict_keys(['author', 'id', 'subreddit', 'author_flair_css_class', 'downs', 'body', 'edited', 'retrieved_on', 'subreddit_id', 'distinguished', 'gilded', 'created_utc', 'name', 'score_hidden', 'parent_id', 'controversiality', 'score', 'author_flair_text', 'link_id', 'archived', 'ups'])"
      ]
     },
     "execution_count": 7,
     "metadata": {},
     "output_type": "execute_result"
    }
   ],
   "source": [
    "json_list[0].keys()"
   ]
  },
  {
   "cell_type": "code",
   "execution_count": 8,
   "metadata": {},
   "outputs": [],
   "source": [
    "master_keys = []\n",
    "for el in json_list:\n",
    "    master_keys.append(json_list[0].keys())\n",
    "master_keys = [key for sublist in master_keys for key in sublist]\n",
    "master_keys=list(set(master_keys))"
   ]
  },
  {
   "cell_type": "code",
   "execution_count": 9,
   "metadata": {},
   "outputs": [],
   "source": [
    "def json_to_list(filename, json_list=[]):\n",
    "    json_data=open(filename)\n",
    "    #json_list = []\n",
    "    for line in open(filename, 'r'):\n",
    "        json_list.append(json.loads(line))\n",
    "    return json_list"
   ]
  },
  {
   "cell_type": "code",
   "execution_count": 10,
   "metadata": {},
   "outputs": [],
   "source": [
    "def get_keys(json_list):\n",
    "    master_keys = []\n",
    "    for el in json_list:\n",
    "        master_keys.append(json_list[0].keys())\n",
    "    master_keys = [key for sublist in master_keys for key in sublist]\n",
    "    master_keys=list(set(master_keys))\n",
    "    return master_keys"
   ]
  },
  {
   "cell_type": "code",
   "execution_count": 23,
   "metadata": {},
   "outputs": [
    {
     "data": {
      "text/plain": [
       "['reddit_10-2007_03-2015/RC_2015-05']"
      ]
     },
     "execution_count": 23,
     "metadata": {},
     "output_type": "execute_result"
    }
   ],
   "source": [
    "files_sub = [files[-3]]\n",
    "files_sub"
   ]
  },
  {
   "cell_type": "code",
   "execution_count": 24,
   "metadata": {},
   "outputs": [],
   "source": [
    "tmp=[]\n",
    "for el in files_sub:\n",
    "    tmp = json_to_list(el,json_list=tmp)\n",
    "master = get_keys(tmp)"
   ]
  },
  {
   "cell_type": "code",
   "execution_count": 25,
   "metadata": {},
   "outputs": [
    {
     "data": {
      "text/plain": [
       "['ups',\n",
       " 'parent_id',\n",
       " 'removal_reason',\n",
       " 'archived',\n",
       " 'author_flair_text',\n",
       " 'distinguished',\n",
       " 'author_flair_css_class',\n",
       " 'body',\n",
       " 'retrieved_on',\n",
       " 'controversiality',\n",
       " 'subreddit_id',\n",
       " 'subreddit',\n",
       " 'link_id',\n",
       " 'id',\n",
       " 'gilded',\n",
       " 'edited',\n",
       " 'downs',\n",
       " 'name',\n",
       " 'score_hidden',\n",
       " 'score',\n",
       " 'author',\n",
       " 'created_utc']"
      ]
     },
     "execution_count": 25,
     "metadata": {},
     "output_type": "execute_result"
    }
   ],
   "source": [
    "master"
   ]
  },
  {
   "cell_type": "code",
   "execution_count": 19,
   "metadata": {
    "scrolled": true
   },
   "outputs": [
    {
     "data": {
      "text/plain": [
       "['ups',\n",
       " 'parent_id',\n",
       " 'archived',\n",
       " 'author_flair_text',\n",
       " 'distinguished',\n",
       " 'author_flair_css_class',\n",
       " 'retrieved_on',\n",
       " 'body',\n",
       " 'controversiality',\n",
       " 'subreddit_id',\n",
       " 'subreddit',\n",
       " 'link_id',\n",
       " 'id',\n",
       " 'gilded',\n",
       " 'edited',\n",
       " 'downs',\n",
       " 'name',\n",
       " 'score_hidden',\n",
       " 'score',\n",
       " 'author',\n",
       " 'created_utc']"
      ]
     },
     "execution_count": 19,
     "metadata": {},
     "output_type": "execute_result"
    }
   ],
   "source": [
    "master_keys"
   ]
  },
  {
   "cell_type": "code",
   "execution_count": null,
   "metadata": {},
   "outputs": [],
   "source": []
  }
 ],
 "metadata": {
  "kernelspec": {
   "display_name": "Python 3",
   "language": "python",
   "name": "python3"
  },
  "language_info": {
   "codemirror_mode": {
    "name": "ipython",
    "version": 3
   },
   "file_extension": ".py",
   "mimetype": "text/x-python",
   "name": "python",
   "nbconvert_exporter": "python",
   "pygments_lexer": "ipython3",
   "version": "3.6.7"
  }
 },
 "nbformat": 4,
 "nbformat_minor": 2
}
